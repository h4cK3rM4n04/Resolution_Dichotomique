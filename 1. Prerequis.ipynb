{
 "cells": [
  {
   "cell_type": "markdown",
   "metadata": {},
   "source": [
    "<div class = \"alert alert-warning\" align=\"center\"> \n",
    "    <img src=\"https://www.egd.mg/wp-content/uploads/2020/01/cropped-logo-home-110px.png\" align=\"left\" width=\"290\"  margin=\"50px\"> \n",
    "    <center><h1>Lycée français de Tananarive</h1> \n",
    "        <h2> Jupyter Hub,  Spécialité NSI </h2></center>\n",
    "</div>"
   ]
  },
  {
   "cell_type": "markdown",
   "metadata": {
    "deletable": false,
    "editable": false,
    "nbgrader": {
     "cell_type": "markdown",
     "checksum": "7ef88fdd7c0f8d2938c157921a7e5f06",
     "grade": false,
     "grade_id": "cell-5dea80c14aad9105",
     "locked": true,
     "schema_version": 3,
     "solution": false,
     "task": false
    }
   },
   "source": [
    "<div align=justify>\n",
    "    <h1 style='text-align:center' ><span style = 'color:#0000FF'>NoteBook 1 : Quelques prérequis\n",
    "        </span></h1>\n",
    "    <h2 style='text-align:center' ><i>Résolution dichotomique</i></h2>\n",
    "</div>"
   ]
  },
  {
   "cell_type": "markdown",
   "metadata": {
    "deletable": false,
    "editable": false,
    "nbgrader": {
     "cell_type": "markdown",
     "checksum": "f2c38120e84dd4e8511a2a56a6b54e7f",
     "grade": false,
     "grade_id": "cell-476db5afd97a41a4",
     "locked": true,
     "schema_version": 3,
     "solution": false,
     "task": false
    }
   },
   "source": [
    "## 1. Passer une fonction en paramètre à une autre fonction.\n",
    "Il existe plusieurs façons de passer en paramètre une fonction à une autre fonction en Python.\n",
    "\n",
    "Première méthode on peut définir la fonction, par exemple définissons $f(x) = 2\\cdot x^2 -x +1$"
   ]
  },
  {
   "cell_type": "code",
   "execution_count": null,
   "metadata": {
    "deletable": false,
    "editable": false,
    "nbgrader": {
     "cell_type": "code",
     "checksum": "35f832f23a233540632a93b620d9453f",
     "grade": false,
     "grade_id": "cell-8def7b06e3cb052b",
     "locked": true,
     "schema_version": 3,
     "solution": false,
     "task": false
    }
   },
   "outputs": [],
   "source": [
    "def fonction(x) :\n",
    "    return 2*x**2-x+1"
   ]
  },
  {
   "cell_type": "markdown",
   "metadata": {
    "deletable": false,
    "editable": false,
    "nbgrader": {
     "cell_type": "markdown",
     "checksum": "4bb5157f333ab35d623041b11f2e890e",
     "grade": false,
     "grade_id": "cell-d701a537aef62a70",
     "locked": true,
     "schema_version": 3,
     "solution": false,
     "task": false
    }
   },
   "source": [
    "Et ensuite il suffira de l'appeler dans une autre fonction par un `appliquer(fonction,3)` par exemple :"
   ]
  },
  {
   "cell_type": "code",
   "execution_count": null,
   "metadata": {
    "deletable": false,
    "editable": false,
    "nbgrader": {
     "cell_type": "code",
     "checksum": "9c8d467fcb26396403013829d3913ce9",
     "grade": false,
     "grade_id": "cell-bd9a94e66ec6bb3d",
     "locked": true,
     "schema_version": 3,
     "solution": false,
     "task": false
    }
   },
   "outputs": [],
   "source": [
    "def appliquer(f,x) :\n",
    "    return f(x)\n",
    "appliquer(fonction,3)"
   ]
  },
  {
   "cell_type": "markdown",
   "metadata": {
    "deletable": false,
    "editable": false,
    "nbgrader": {
     "cell_type": "markdown",
     "checksum": "9386ce5b18e73b85e9c1f01f8fe1bfc4",
     "grade": false,
     "grade_id": "cell-e43d4f6884642d0c",
     "locked": true,
     "schema_version": 3,
     "solution": false,
     "task": false
    }
   },
   "source": [
    "<div class = \"alert alert-info\">\n",
    "    <b> Q1</b> : Créer une fonction nommée <code>fonction2(x)</code> qui permette d'implémenter la fonction :$f_2(x) = 4\\cdot x^3+2\\cdot x^2-3$\n",
    " </div>"
   ]
  },
  {
   "cell_type": "code",
   "execution_count": null,
   "metadata": {
    "deletable": false,
    "nbgrader": {
     "cell_type": "code",
     "checksum": "ff586a286d10a7377b15c554c8ba4ae5",
     "grade": false,
     "grade_id": "cell-39cc2e19abc4d876",
     "locked": false,
     "schema_version": 3,
     "solution": true,
     "task": false
    }
   },
   "outputs": [],
   "source": [
    "def fonction2(x) :\n",
    "    # YOUR CODE HERE\n",
    "    raise NotImplementedError()\n",
    "    print(\"\")"
   ]
  },
  {
   "cell_type": "code",
   "execution_count": null,
   "metadata": {
    "deletable": false,
    "editable": false,
    "nbgrader": {
     "cell_type": "code",
     "checksum": "aa8a549188ce0c647ee27bd9a84e2a6f",
     "grade": true,
     "grade_id": "cell-a5cf477a9dafba43",
     "locked": true,
     "points": 1,
     "schema_version": 3,
     "solution": false,
     "task": false
    }
   },
   "outputs": [],
   "source": [
    "assert appliquer(fonction2,1) == 3\n",
    "assert appliquer(fonction2,9) == 3075"
   ]
  },
  {
   "cell_type": "markdown",
   "metadata": {
    "deletable": false,
    "editable": false,
    "nbgrader": {
     "cell_type": "markdown",
     "checksum": "3bce14acb929505d6d7948150111a848",
     "grade": false,
     "grade_id": "cell-f979c9a8e299658d",
     "locked": true,
     "schema_version": 3,
     "solution": false,
     "task": false
    }
   },
   "source": [
    "Mais on peut utiliser une autre solution avec la fonction $lambda$."
   ]
  },
  {
   "cell_type": "code",
   "execution_count": null,
   "metadata": {
    "deletable": false,
    "editable": false,
    "nbgrader": {
     "cell_type": "code",
     "checksum": "b2062f3473e0733c913db93aa04564cd",
     "grade": false,
     "grade_id": "cell-dda9be5f55d619b0",
     "locked": true,
     "schema_version": 3,
     "solution": false,
     "task": false
    }
   },
   "outputs": [],
   "source": [
    "appliquer(lambda x:2*x**2-x+1,4)"
   ]
  },
  {
   "cell_type": "markdown",
   "metadata": {
    "deletable": false,
    "editable": false,
    "nbgrader": {
     "cell_type": "markdown",
     "checksum": "3d6e1481ff97325c0a749c8671f083d8",
     "grade": false,
     "grade_id": "cell-c77b1106e03eb36c",
     "locked": true,
     "schema_version": 3,
     "solution": false,
     "task": false
    }
   },
   "source": [
    "## 2. Le module math\n",
    "Le module math met à votre disposition les fonctions $cos(x)$ et $\\sqrt{x}$ entre autre :"
   ]
  },
  {
   "cell_type": "code",
   "execution_count": null,
   "metadata": {
    "deletable": false,
    "editable": false,
    "nbgrader": {
     "cell_type": "code",
     "checksum": "392ea6865098eab7b54b05748c04a651",
     "grade": false,
     "grade_id": "cell-0387664cb6fdfb20",
     "locked": true,
     "schema_version": 3,
     "solution": false,
     "task": false
    }
   },
   "outputs": [],
   "source": [
    "from math import *\n",
    "cos(3.1)"
   ]
  },
  {
   "cell_type": "code",
   "execution_count": null,
   "metadata": {
    "deletable": false,
    "editable": false,
    "nbgrader": {
     "cell_type": "code",
     "checksum": "2d20aa0d7c5d931e439b0441143347d4",
     "grade": false,
     "grade_id": "cell-1838df425bab218e",
     "locked": true,
     "schema_version": 3,
     "solution": false,
     "task": false
    }
   },
   "outputs": [],
   "source": [
    "sqrt(29)"
   ]
  },
  {
   "cell_type": "markdown",
   "metadata": {
    "deletable": false,
    "editable": false,
    "nbgrader": {
     "cell_type": "markdown",
     "checksum": "42192f8cce34d0a190f93034d7f5df93",
     "grade": false,
     "grade_id": "cell-b5930292e66f6544",
     "locked": true,
     "schema_version": 3,
     "solution": false,
     "task": false
    }
   },
   "source": [
    "<div class = \"alert alert-info\">\n",
    "    <b> Q2</b> : On a $f_3(x) = \\sqrt{cos(2\\cdot x)}$\n",
    "    \n",
    "Créer une variable <code>solution</code> et lui affecter la valeur $f_3(2.5)$ en utilisant la fonction <code>appliquer</code> en utilisant une fonction <code>lambda</code>\n",
    "</div> "
   ]
  },
  {
   "cell_type": "code",
   "execution_count": null,
   "metadata": {
    "deletable": false,
    "nbgrader": {
     "cell_type": "code",
     "checksum": "aaf9a098eb8015591321a681cd4732d6",
     "grade": false,
     "grade_id": "cell-e50aae767bf469ad",
     "locked": false,
     "schema_version": 3,
     "solution": true,
     "task": false
    }
   },
   "outputs": [],
   "source": [
    "# YOUR CODE HERE\n",
    "raise NotImplementedError()"
   ]
  },
  {
   "cell_type": "code",
   "execution_count": null,
   "metadata": {
    "deletable": false,
    "editable": false,
    "nbgrader": {
     "cell_type": "code",
     "checksum": "84df8665aae37f226520d2604e4605a1",
     "grade": true,
     "grade_id": "cell-b5c4de47bf8b990b",
     "locked": true,
     "points": 1,
     "schema_version": 3,
     "solution": false,
     "task": false
    }
   },
   "outputs": [],
   "source": [
    "assert 0.53<solution<0.54"
   ]
  },
  {
   "cell_type": "markdown",
   "metadata": {
    "deletable": false,
    "editable": false,
    "nbgrader": {
     "cell_type": "markdown",
     "checksum": "0533e2244ef1b7f8fd8cba0ad7b7c263",
     "grade": false,
     "grade_id": "cell-492d7bb1c8cdf1d3",
     "locked": true,
     "schema_version": 3,
     "solution": false,
     "task": false
    }
   },
   "source": [
    "<div class=\"alert alert-warning\" align=\"center\">\n",
    "    <b>Equipe pédagoqique LFT-NSI</b>\n",
    "<br/>ressource éducative libre distribuée sous <a href=\"http://creativecommons.org/licenses/by-nc-sa/4.0/\"!>Licence Creative Commons Attribution</a>\n",
    "    <img src=\"https://licensebuttons.net/l/by-nc-sa/4.0/88x31.png\" align=\"center\" width=\"70\"  margin=\"50px\"> \n",
    "</div>"
   ]
  }
 ],
 "metadata": {
  "kernelspec": {
   "display_name": "Python 3",
   "language": "python",
   "name": "python3"
  },
  "language_info": {
   "codemirror_mode": {
    "name": "ipython",
    "version": 3
   },
   "file_extension": ".py",
   "mimetype": "text/x-python",
   "name": "python",
   "nbconvert_exporter": "python",
   "pygments_lexer": "ipython3",
   "version": "3.6.9"
  }
 },
 "nbformat": 4,
 "nbformat_minor": 4
}
