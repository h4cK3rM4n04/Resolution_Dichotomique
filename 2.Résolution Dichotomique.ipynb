{
 "cells": [
  {
   "cell_type": "markdown",
   "metadata": {},
   "source": [
    "<div class = \"alert alert-warning\" align=\"center\"> \n",
    "    <img src=\"https://www.egd.mg/wp-content/uploads/2020/01/cropped-logo-home-110px.png\" align=\"left\" width=\"290\"  margin=\"50px\"> \n",
    "    <center><h1>Lycée français de Tananarive</h1> \n",
    "        <h2> Jupyter Hub,  Spécialité NSI </h2></center>\n",
    "</div>"
   ]
  },
  {
   "cell_type": "markdown",
   "metadata": {
    "deletable": false,
    "editable": false,
    "nbgrader": {
     "cell_type": "markdown",
     "checksum": "a64c58c2017c971bac98a7768f870e6b",
     "grade": false,
     "grade_id": "cell-f9cb24c628649a2d",
     "locked": true,
     "schema_version": 3,
     "solution": false,
     "task": false
    }
   },
   "source": [
    "<div align=justify>\n",
    "    <h1 style='text-align:center' ><span style = 'color:#0000FF'>NoteBook 2 : Resoudre numériquement une équation\n",
    "        </span></h1>\n",
    "    <h2 style='text-align:center' ><i>Résolution dichotomique</i></h2>\n",
    "</div>"
   ]
  },
  {
   "cell_type": "markdown",
   "metadata": {
    "deletable": false,
    "editable": false,
    "nbgrader": {
     "cell_type": "markdown",
     "checksum": "77237064f06368241e482e2295c3192f",
     "grade": false,
     "grade_id": "cell-2d436fadb020585b",
     "locked": true,
     "schema_version": 3,
     "solution": false,
     "task": false
    }
   },
   "source": [
    "Les méthodes numériques permettent de calculer de manière effectives des solutions numériques à divers problèmes, souvent liés à la physique.\n",
    "\n",
    "Nous aborderons ici la méthode dichotomique pour résoudre une équation.\n",
    "\n",
    "Lors de cette épreuve nous aurons besoin de la bibliothéque de fonctions mathématiques, commençons par l'importer"
   ]
  },
  {
   "cell_type": "code",
   "execution_count": null,
   "metadata": {
    "deletable": false,
    "editable": false,
    "nbgrader": {
     "cell_type": "code",
     "checksum": "07199e9e3ba4ebf1338210426f0a9933",
     "grade": false,
     "grade_id": "cell-244821cf6b9e7219",
     "locked": true,
     "schema_version": 3,
     "solution": false,
     "task": false
    }
   },
   "outputs": [],
   "source": [
    "from math import *"
   ]
  },
  {
   "cell_type": "markdown",
   "metadata": {
    "deletable": false,
    "editable": false,
    "nbgrader": {
     "cell_type": "markdown",
     "checksum": "1fe799daf25d6597ad68ee590b3363c2",
     "grade": false,
     "grade_id": "cell-d89aa2bf2ffbe5a6",
     "locked": true,
     "schema_version": 3,
     "solution": false,
     "task": false
    }
   },
   "source": [
    "## 1. Le Sujet\n",
    "La méthode dichotomique est utilisé dans la résolution de nombreux problèmes nuémriques. Elle permet, en particulier, de trouver la solution d'une équation $f(x)=0$ où $f$ est une fonction continue d'une variable réelle.\n",
    "\n",
    "Cette méthode peut être utilisé dans les cas où une solution analytique ne peut être connue.\n",
    "\n",
    "Dans toute la suite, on supposera que $f$ est une fonction continue strictement croissant ou décroissant sur l'intervalle considéré;\n",
    "\n",
    "On admet que si il existe $a<b$ tels que $f(a)\\cdot f(b)<0$ alors il existe $c \\in [a,b]$ tel que $f(c)=0$."
   ]
  },
  {
   "cell_type": "markdown",
   "metadata": {
    "deletable": false,
    "editable": false,
    "nbgrader": {
     "cell_type": "markdown",
     "checksum": "2c0d90eda9097d6112e84089aa614600",
     "grade": false,
     "grade_id": "cell-02c6fecc421a82aa",
     "locked": true,
     "schema_version": 3,
     "solution": false,
     "task": false
    }
   },
   "source": [
    "<div class = \"alert alert-info\">\n",
    "    <b>Q1</b> L'algorithme de recherche de solution par la méthode dichotomique consiste, à partir d'un intervalle $[a,b]$ contenant une solution $x$ à l'équation $f(x)=0$, à trouver un nouvel intervalle, deux fois plus petit, qui contient une solution.\n",
    "\n",
    "Pour cela, on évalue $f(m)$ avec $m=\\frac{a+b}{2}$. Alors au moins, un des deux intervalles $[a,m]$ ou $[m,b]$ contient une solution.\n",
    "> Ecrire une fonction nommée `iteration_dicho` qui prend en praramètre la fonction $f$ , le deux valeurs  $a$ et $b$, et renvoie les bornes de l'intervalle, plus petit, contenant la solution.\n",
    "</div>"
   ]
  },
  {
   "cell_type": "code",
   "execution_count": null,
   "metadata": {
    "deletable": false,
    "nbgrader": {
     "cell_type": "code",
     "checksum": "39340c594c01e8a7005e98c5d216da42",
     "grade": false,
     "grade_id": "cell-a65d961fe4245a60",
     "locked": false,
     "schema_version": 3,
     "solution": true,
     "task": false
    }
   },
   "outputs": [],
   "source": [
    "def iteration_dicho(f,a,b) :\n",
    "    \"\"\" itération de fonction\n",
    "    Prec :  f : fonction de R dans R continue sur l'intervalle [a,b]\n",
    "            a et b : float, bornes min et max de l'intervalle contenant la solution\n",
    "    Post : Un tuple contenant les bornes du nouvel intervalle. \"\"\"\n",
    "    # YOUR CODE HERE\n",
    "    raise NotImplementedError()"
   ]
  },
  {
   "cell_type": "code",
   "execution_count": null,
   "metadata": {
    "deletable": false,
    "editable": false,
    "nbgrader": {
     "cell_type": "code",
     "checksum": "4512b386152a32da71d97366ad647394",
     "grade": false,
     "grade_id": "cell-39d9de66c8cae45e",
     "locked": true,
     "schema_version": 3,
     "solution": false,
     "task": false
    }
   },
   "outputs": [],
   "source": [
    "def g(x) :\n",
    "    return x+1\n",
    "def h(x) :\n",
    "    return 5*x**5-4*x**3-x**2+3"
   ]
  },
  {
   "cell_type": "code",
   "execution_count": null,
   "metadata": {
    "deletable": false,
    "editable": false,
    "nbgrader": {
     "cell_type": "code",
     "checksum": "538cab5ad52920a5f7164e34338b8b9b",
     "grade": true,
     "grade_id": "cell-53b1a266b5296d11",
     "locked": true,
     "points": 0,
     "schema_version": 3,
     "solution": false,
     "task": false
    }
   },
   "outputs": [],
   "source": [
    "assert iteration_dicho(g,-2,3) == (-2, 0.5)\n",
    "assert iteration_dicho(g,-3,0) == (-1.5, 0)\n",
    "assert iteration_dicho(g,-1.5,0) == (-1.5, -0.75)\n",
    "assert iteration_dicho(h,-3,0) == (-1.5, 0)\n",
    "assert iteration_dicho(h,-1.5,-0.5) == (-1.5, -1.0)\n",
    "assert iteration_dicho(h,-1.2,-1.1) == (-1.15, -1.1)"
   ]
  },
  {
   "cell_type": "markdown",
   "metadata": {
    "deletable": false,
    "editable": false,
    "nbgrader": {
     "cell_type": "markdown",
     "checksum": "f3aba8d5bf1919db8d81ee5d172bffb2",
     "grade": false,
     "grade_id": "cell-303e1fda960a2be2",
     "locked": true,
     "schema_version": 3,
     "solution": false,
     "task": false
    }
   },
   "source": [
    "<div class = \"alert alert-info\">\n",
    "<b>Q2</b> Il est très rare que la solution exacte soit trouvée, et tout en sachant qu'il faut tenir compte des erreurs de calcul sur les nombres flottants.\n",
    "\n",
    "Nous allons donc considérer que si l'intervalle est suffisament petit ( $a-b$ inférieur à une valeur $\\varepsilon$ fixée), alors une solution approchée est $\\frac{a+b}{2}$, ce qui garanti une erreur inférieure à $\\frac{\\varepsilon}{2}$.\n",
    "\n",
    "> Ecrire une fonction `dichotomie` qui prend en argument une fonction $f$, les bornes d'un intervalle $a$ et $b$ et la valeur de $\\epsilon$ et renvoie la solution approchée de l'équation $f(x)=0$, ou `None`, si il n'existe pas à priori de solution dans l'intervalle considéré ( car $f(a) \\cdot f(b) > 0$ par exemple, ce qui ne signifie pas d'assurer qu'il n'y a pas de racines dans l'intervalle considéré, mais ne permet pas non plus d'assurer qu'il y en a une).\n",
    "</div>"
   ]
  },
  {
   "cell_type": "code",
   "execution_count": null,
   "metadata": {
    "deletable": false,
    "nbgrader": {
     "cell_type": "code",
     "checksum": "35e45aa6fe1b6ef815b2ec7b9747cea5",
     "grade": false,
     "grade_id": "cell-43cf4e98893def32",
     "locked": false,
     "schema_version": 3,
     "solution": true,
     "task": false
    }
   },
   "outputs": [],
   "source": [
    "def dichotomie(f,a,b,eps) :\n",
    "    \"\"\" fonction dicho\n",
    "    Prec :  f : fonction de R dans R continue sur l'intervalle [a,b]\n",
    "            a et b : float, bornes min et max de l'intervalle contenant la solution\n",
    "            eps : largeur de l'intervalle à atteindre\n",
    "    Post : Un flottant représentant la solution approchée à eps/2 près \"\"\"\n",
    "    # YOUR CODE HERE\n",
    "    raise NotImplementedError()"
   ]
  },
  {
   "cell_type": "code",
   "execution_count": null,
   "metadata": {
    "deletable": false,
    "editable": false,
    "nbgrader": {
     "cell_type": "code",
     "checksum": "4dd1406e21e7463c7e7d830e06262f0e",
     "grade": true,
     "grade_id": "cell-66747b0c7a8ed17a",
     "locked": true,
     "points": 3,
     "schema_version": 3,
     "solution": false,
     "task": false
    }
   },
   "outputs": [],
   "source": [
    "assert dichotomie(g,-10,10,1e-3) == -1.00006103515625\n",
    "assert dichotomie(g,-10,10,1e-8) == -1.0000000009313226\n",
    "assert dichotomie(g,-10,10,1e-14) == -1.0000000000000009\n",
    "assert dichotomie(h,-10,10,1e-2) == -1.0595703125\n",
    "assert dichotomie(h,-10,10,1e-10) == -1.0574766924037249"
   ]
  },
  {
   "cell_type": "markdown",
   "metadata": {
    "deletable": false,
    "editable": false,
    "nbgrader": {
     "cell_type": "markdown",
     "checksum": "faf133f3d3ba3c8e2b77c8f9767b0139",
     "grade": false,
     "grade_id": "cell-290aadee2dbb33f6",
     "locked": true,
     "schema_version": 3,
     "solution": false,
     "task": false
    }
   },
   "source": [
    "<div class = \"alert alert-info\">\n",
    "    <b>Q3</b> Tester votre fonction de résolution dichotomique sur un un cas connu..\n",
    "\n",
    "Soit la fonction définie par : $f(x) = (x-1) \\cdot (x+3)^3 \\cdot (x-4)$. Cette fonction admet trois racines connues.\n",
    "> Ecrire une fonction `resolution` qui renvoie les trois solutions approchées de cette fonction (et uniquement de cette fonction) sous forme d'un tuple avec une précision de $10^{-4}$.\n",
    " Pour vérifier la valeur approximative des racines, on peut tracer la courbe.\n",
    "</div>"
   ]
  },
  {
   "cell_type": "code",
   "execution_count": null,
   "metadata": {
    "deletable": false,
    "editable": false,
    "nbgrader": {
     "cell_type": "code",
     "checksum": "8a8c02aa514ecf002b900ec5e2d04c27",
     "grade": false,
     "grade_id": "cell-bfe1a4d381874594",
     "locked": true,
     "schema_version": 3,
     "solution": false,
     "task": false
    }
   },
   "outputs": [],
   "source": [
    "import matplotlib.pyplot as plt\n",
    "x = [i*0.01 for i in range(-500,500)]\n",
    "y = [(i-1)*(i+3)**3*(i-4) for i in x]\n",
    "y1 = [0 for i in x]\n",
    "\n",
    "plt.plot(x,y)\n",
    "plt.plot(x,y1)"
   ]
  },
  {
   "cell_type": "code",
   "execution_count": null,
   "metadata": {
    "deletable": false,
    "nbgrader": {
     "cell_type": "code",
     "checksum": "bc7292d9ce35c4f038d990a192408562",
     "grade": false,
     "grade_id": "cell-c36a963576f43258",
     "locked": false,
     "schema_version": 3,
     "solution": true,
     "task": false
    }
   },
   "outputs": [],
   "source": [
    "def resolution (f) :\n",
    "    \"\"\" resolution de fonction\n",
    "    Prec :  f : fonction (x-1)*(x+3)**3*(x-4)\n",
    "    Post : Un tuple contenant les trois solutions approchées dans l'ordre croissant \"\"\"\n",
    "    # YOUR CODE HERE\n",
    "    raise NotImplementedError()"
   ]
  },
  {
   "cell_type": "code",
   "execution_count": null,
   "metadata": {
    "deletable": false,
    "editable": false,
    "nbgrader": {
     "cell_type": "code",
     "checksum": "e0c45f18bcd5975ad41c8110ad75f961",
     "grade": true,
     "grade_id": "cell-4c707f3e0d5eb807",
     "locked": true,
     "points": 2,
     "schema_version": 3,
     "solution": false,
     "task": false
    }
   },
   "outputs": [],
   "source": [
    "assert -3.00009<resolution(lambda x: (x-1)*(x+3)**3*(x-4))[0]<-2.99999\n",
    "assert 0.9999<resolution(lambda x: (x-1)*(x+3)**3*(x-4))[1]<1.0001\n",
    "assert 3.9999<resolution(lambda x: (x-1)*(x+3)**3*(x-4))[2]<4.0001"
   ]
  },
  {
   "cell_type": "markdown",
   "metadata": {
    "deletable": false,
    "editable": false,
    "nbgrader": {
     "cell_type": "markdown",
     "checksum": "5110503849af1dd1f25870d74416d264",
     "grade": false,
     "grade_id": "cell-73186b91efbb8ae6",
     "locked": true,
     "schema_version": 3,
     "solution": false,
     "task": false
    }
   },
   "source": [
    "<div class = \"alert alert-info\">\n",
    "    <b>Q4</b> Utiliser votre fonction <code>dichotomie</code> pour affecter à la variable <code>sol</code> la solution de l'équation $f(x)=cos(\\sqrt{x})$ entre 10 et 30 avec une précision de $10^{-5}$ !\n",
    "    \n",
    "$\\heartsuit $ : Pensez à ce que l'on a vu dans le Notebook précédent.\n",
    "</div>"
   ]
  },
  {
   "cell_type": "code",
   "execution_count": null,
   "metadata": {
    "deletable": false,
    "nbgrader": {
     "cell_type": "code",
     "checksum": "fac7b4f9a854fe463950a72af396ec35",
     "grade": false,
     "grade_id": "cell-dc551d61c2d212e3",
     "locked": false,
     "schema_version": 3,
     "solution": true,
     "task": false
    }
   },
   "outputs": [],
   "source": [
    "# YOUR CODE HERE\n",
    "raise NotImplementedError()"
   ]
  },
  {
   "cell_type": "code",
   "execution_count": null,
   "metadata": {
    "deletable": false,
    "editable": false,
    "nbgrader": {
     "cell_type": "code",
     "checksum": "b1000d5e94fc8e7d2418b9918fe1d012",
     "grade": true,
     "grade_id": "cell-521f04b3a7f1aeb4",
     "locked": true,
     "points": 2,
     "schema_version": 3,
     "solution": false,
     "task": false
    }
   },
   "outputs": [],
   "source": [
    "assert 22<sol<23"
   ]
  },
  {
   "cell_type": "markdown",
   "metadata": {
    "deletable": false,
    "editable": false,
    "nbgrader": {
     "cell_type": "markdown",
     "checksum": "2b567245e5616d5ea4e2719d8e0828fe",
     "grade": false,
     "grade_id": "cell-290d03531a9ded38",
     "locked": true,
     "schema_version": 3,
     "solution": false,
     "task": false
    }
   },
   "source": [
    "<div class = \"alert alert-info\">\n",
    "    <b>Q5</b> Le nombre d'étapes réalisées par l'algorithme dépend uniquement de la largeur de l'intervalle et de la borne $\\varepsilon$ chosie.\n",
    "\n",
    "En supposant $a=0$ et $b=8$ et $\\epsilon = 10^{-2}$, combien de tour de boucles effectuera l'algorithme dans ce cas ?\n",
    "</div>"
   ]
  },
  {
   "cell_type": "markdown",
   "metadata": {
    "deletable": false,
    "nbgrader": {
     "cell_type": "markdown",
     "checksum": "e53ad4d141eac6a0cf2ba4530177c0cd",
     "grade": true,
     "grade_id": "cell-06562ab66ff633aa",
     "locked": false,
     "points": 2,
     "schema_version": 3,
     "solution": true,
     "task": false
    }
   },
   "source": [
    "YOUR ANSWER HERE"
   ]
  },
  {
   "cell_type": "markdown",
   "metadata": {
    "deletable": false,
    "editable": false,
    "nbgrader": {
     "cell_type": "markdown",
     "checksum": "c2eaeb93bee6d82061b4a7fc832b2483",
     "grade": false,
     "grade_id": "cell-a587a7de5c4e0e6a",
     "locked": true,
     "schema_version": 3,
     "solution": false,
     "task": false
    }
   },
   "source": [
    "<div class = \"alert alert-info\">\n",
    "    <b>Q6</b> En supposant que l'appel de fonction la question 5 s'effectue en 0.1 millisenconde, à combien peut on estimer le temps de calcul si la valeur de $\\epsilon$ était de $10^{-6}$ ?\n",
    "</div>"
   ]
  },
  {
   "cell_type": "markdown",
   "metadata": {
    "deletable": false,
    "nbgrader": {
     "cell_type": "markdown",
     "checksum": "b00660d6a844fd99147037cf8f97d525",
     "grade": true,
     "grade_id": "cell-88e286c92ca1c1b9",
     "locked": false,
     "points": 2,
     "schema_version": 3,
     "solution": true,
     "task": false
    }
   },
   "source": [
    "YOUR ANSWER HERE"
   ]
  },
  {
   "cell_type": "markdown",
   "metadata": {
    "deletable": false,
    "editable": false,
    "nbgrader": {
     "cell_type": "markdown",
     "checksum": "38436895755fdd3fb487b4621ecf1c5f",
     "grade": false,
     "grade_id": "cell-d38e33bb800cc7f1",
     "locked": true,
     "schema_version": 3,
     "solution": false,
     "task": false
    }
   },
   "source": [
    "<div class=\"alert alert-warning\" align=\"center\">\n",
    "    <b>Equipe pédagoqique LFT-NSI</b>\n",
    "<br/>ressource éducative libre distribuée sous <a href=\"http://creativecommons.org/licenses/by-nc-sa/4.0/\"!>Licence Creative Commons Attribution</a>\n",
    "    <img src=\"https://licensebuttons.net/l/by-nc-sa/4.0/88x31.png\" align=\"center\" width=\"70\"  margin=\"50px\"> \n",
    "</div>"
   ]
  }
 ],
 "metadata": {
  "kernelspec": {
   "display_name": "Python 3",
   "language": "python",
   "name": "python3"
  },
  "language_info": {
   "codemirror_mode": {
    "name": "ipython",
    "version": 3
   },
   "file_extension": ".py",
   "mimetype": "text/x-python",
   "name": "python",
   "nbconvert_exporter": "python",
   "pygments_lexer": "ipython3",
   "version": "3.6.9"
  }
 },
 "nbformat": 4,
 "nbformat_minor": 4
}
